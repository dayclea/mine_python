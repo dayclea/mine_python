{
 "cells": [
  {
   "cell_type": "code",
   "execution_count": 6,
   "id": "c98118e2",
   "metadata": {},
   "outputs": [],
   "source": [
    "# Author : 4기 이아림 "
   ]
  },
  {
   "cell_type": "code",
   "execution_count": 7,
   "id": "ace45407-ab77-47aa-bb43-bcaca274bf9e",
   "metadata": {},
   "outputs": [],
   "source": [
    "# 설명  \n",
    "\n",
    "# 용어 : SMA(단순이동평균), WMA(가중이동평균),  EMA(지수이동평균), Price Oscillator 지표\n",
    "\n",
    "# SMA -> WMA -> EMA  : EMA가 가장 최근의 값에 가중치를 두면서 이동평균을 계산하는 방법.\n",
    "# Price Oscillator(porc) : 단기이동평균과 장기이동평균의 차이를 분석하여 %의 선을 보여줌.\n",
    "# Price Oscillator(porc)[%] > 0 : 매수 시점 /  Price Oscillator(porc)[%] < 0 : 매도 시점\n",
    "# Price Oscillator(porc) 공식  :  ( (단기이동평균-장기이동평균)/단기이동평균 ) * 100\n",
    "\n",
    "# 1. target stock의 SMA, WMA, EMA를 구함.(종가 이용)\n",
    "# 2. SMA를 사용한 posc, WMA를 사용한 posc, EMA를 사용한 posc를 구해줌\n",
    "# 3. 각 posc에 가중치를 두어 가중평균 posc를 구함. (여기서 구한 가중평균posc를 posc로 사용.)\n",
    "# 4. 한 종목이 속한 산업의 posc 구함(target stock posc). \n",
    "# 5. target stock posc(%) > 0 인 경우 > 매수 결정. \n",
    "#    target stock posc(%) > 0 인 경우 : \n",
    "#    target stock posc(%) > 0 이면서 그 종목이 속한 산업의 posc(%)(target industry stock)보다 클 경우, 과매수로 의심할 수 있음 > 매수 위험.\n",
    "#    target stock posc(%) < 0  > 매도 결정.    "
   ]
  },
  {
   "cell_type": "code",
   "execution_count": 8,
   "id": "32ed9ea1",
   "metadata": {},
   "outputs": [],
   "source": [
    "import urllib.parse\n",
    "import pandas as pd\n",
    "import FinanceDataReader as fdr\n",
    "import matplotlib.pyplot as plt\n",
    "import numpy as np"
   ]
  },
  {
   "cell_type": "code",
   "execution_count": 9,
   "id": "5b68dfb5",
   "metadata": {},
   "outputs": [],
   "source": [
    "MARKET_CODE_DICT = {\n",
    "    'kospi' : 'stockMkt',\n",
    "    'kosdaq' : 'kosdaqMkt',\n",
    "    'konex' : 'konexMkt'\n",
    "}"
   ]
  },
  {
   "cell_type": "code",
   "execution_count": 10,
   "id": "9d3c4241",
   "metadata": {},
   "outputs": [],
   "source": [
    "DOWNLOAD_URL = 'http://kind.krx.co.kr/corpgeneral/corpList.do'"
   ]
  },
  {
   "cell_type": "code",
   "execution_count": 11,
   "id": "1ae1baea",
   "metadata": {},
   "outputs": [],
   "source": [
    "# 종목코드가 6자리가 될 수 있도록 해주는 함수"
   ]
  },
  {
   "cell_type": "code",
   "execution_count": 12,
   "id": "2d3b2915",
   "metadata": {},
   "outputs": [],
   "source": [
    "def zeroFill(columnValue):\n",
    "    columnValue = str(columnValue)\n",
    "    outValue = columnValue.zfill(6)\n",
    "    return outValue"
   ]
  },
  {
   "cell_type": "code",
   "execution_count": 13,
   "id": "838088c1",
   "metadata": {},
   "outputs": [],
   "source": [
    "# MARKET에서 정보 불러오는 함수"
   ]
  },
  {
   "cell_type": "code",
   "execution_count": 14,
   "id": "325c3feb",
   "metadata": {},
   "outputs": [],
   "source": [
    "def get_stock_codes(market=None, delisted=False):\n",
    "    params = {'method':'download'}\n",
    "    if market.lower() in MARKET_CODE_DICT:\n",
    "        params['marketType'] = MARKET_CODE_DICT[market]\n",
    "        print(market.lower()+\"market key is exist\")\n",
    "    else:\n",
    "        print(\"invalid market\")\n",
    "    params_String = urllib.parse.urlencode(params)\n",
    "    request_url = DOWNLOAD_URL + \"?\" + params_String\n",
    "    df = pd.read_html(request_url)[0]\n",
    "    df['종목코드'] = df.종목코드.apply(zeroFill)\n",
    "    return df"
   ]
  },
  {
   "cell_type": "code",
   "execution_count": 15,
   "id": "ce64dd7b",
   "metadata": {
    "scrolled": true,
    "tags": []
   },
   "outputs": [
    {
     "name": "stdout",
     "output_type": "stream",
     "text": [
      "kospimarket key is exist\n"
     ]
    }
   ],
   "source": [
    "stocks = get_stock_codes('kospi')"
   ]
  },
  {
   "cell_type": "code",
   "execution_count": 16,
   "id": "7adbb8fd",
   "metadata": {},
   "outputs": [],
   "source": [
    "# stocks"
   ]
  },
  {
   "cell_type": "code",
   "execution_count": 17,
   "id": "e7ab93ab",
   "metadata": {},
   "outputs": [],
   "source": [
    "# posc 구할 때 설정하는 비율 (총합이 100!)\n",
    "# a = SMA\n",
    "# b = WMA\n",
    "# c = EMA"
   ]
  },
  {
   "cell_type": "code",
   "execution_count": 18,
   "id": "6e00998a",
   "metadata": {},
   "outputs": [],
   "source": [
    "a=20 \n",
    "b=30\n",
    "c=50"
   ]
  },
  {
   "cell_type": "code",
   "execution_count": 19,
   "id": "a4e46b38",
   "metadata": {},
   "outputs": [],
   "source": [
    "# 구하고 싶은 종목 입력"
   ]
  },
  {
   "cell_type": "code",
   "execution_count": 20,
   "id": "de9c95cb",
   "metadata": {},
   "outputs": [
    {
     "name": "stdin",
     "output_type": "stream",
     "text": [
      " 035720\n"
     ]
    }
   ],
   "source": [
    "target = input()"
   ]
  },
  {
   "cell_type": "code",
   "execution_count": 21,
   "id": "6698ac6e",
   "metadata": {},
   "outputs": [],
   "source": [
    "# 구하고자 하는 종목 해당 업종에 속한 모든 종목들 코드 가져오기"
   ]
  },
  {
   "cell_type": "code",
   "execution_count": 22,
   "id": "606aa100",
   "metadata": {},
   "outputs": [],
   "source": [
    "seekCode = target"
   ]
  },
  {
   "cell_type": "code",
   "execution_count": 23,
   "id": "cabcf51e",
   "metadata": {},
   "outputs": [],
   "source": [
    "def get_seekLists(seekCode):\n",
    "    seekRow = stocks.loc[stocks.종목코드.str.upper() == seekCode.upper() ]\n",
    "    seekIndustry = seekRow.업종\n",
    "    seekIndustrys = seekIndustry.to_list()\n",
    "    seekRows = stocks.loc[(seekIndustrys[0] == stocks.업종.str.upper())]\n",
    "    seekLists = seekRows.종목코드.to_list()\n",
    "    return seekLists"
   ]
  },
  {
   "cell_type": "code",
   "execution_count": 24,
   "id": "5f596575",
   "metadata": {},
   "outputs": [],
   "source": [
    "seekLists = get_seekLists(seekCode)"
   ]
  },
  {
   "cell_type": "code",
   "execution_count": 25,
   "id": "aef2422e",
   "metadata": {},
   "outputs": [],
   "source": [
    "df = fdr.DataReader(target) # 이 부분이 없으면 Class 안돌아감 (이유분석필요)"
   ]
  },
  {
   "cell_type": "code",
   "execution_count": 1,
   "id": "214fee73-a13d-413a-bec1-b24cb261dbf4",
   "metadata": {},
   "outputs": [],
   "source": [
    "# Class 설명\n",
    "\n",
    "# 1. 생성자 > stockCode : target stock code / a : poscSMA가중치 / b : poscWMA가중치 / c : poscEMA가중치 \n",
    "# 2. get_postSMA > SMA로 구한 posc값 반환\n",
    "# 3. get_poscWMA > WMA로 구한 posc값 반환\n",
    "# 4. get_poscEMA > EMA로 구한 posc값 반환\n",
    "# 5. get_posc > SMA,WMA,EMA로 구한 가중평균posc값 반환. (가중평균posc > posc )\n",
    "\n",
    "#  SMAposc,WMAposc,EMAposc 을 이용하여 posc(가중평균posc)도출하는 Class"
   ]
  },
  {
   "cell_type": "code",
   "execution_count": 26,
   "id": "68805dde",
   "metadata": {},
   "outputs": [],
   "source": [
    "class StockPosc:\n",
    "    def __init__(self, stockCode,a, b, c):\n",
    "        self.stockCode = stockCode\n",
    "        self.df= fdr.DataReader(stockCode, '2020-01-01')\n",
    "        self.a = a\n",
    "        self.b = b\n",
    "        self.c = c\n",
    "        \n",
    "    def get_poscSMA(self):\n",
    "        df['sma10'] = self.df['Close'].rolling(10).mean()\n",
    "        df['sma20'] = self.df['Close'].rolling(20).mean()\n",
    "        poscSMA = ((df['sma10']-df['sma20'])/df['sma10'])*100\n",
    "        return poscSMA \n",
    "\n",
    "    \n",
    "    def weighted_mean(weight_array):\n",
    "        def inner(x):\n",
    "            return(weight_array*(x)).mean()\n",
    "        return inner\n",
    "\n",
    "    def get_poscWMA(self):\n",
    "        weights = np.arange(1,11)\n",
    "        weights\n",
    "        df['wma10'] =self.df['Close'].rolling(10).apply(lambda prices:np.dot(prices, weights)/weights.sum(), raw=True)\n",
    "        weights = np.arange(1,21)\n",
    "        df['wma20'] = self.df['Close'].rolling(20).apply(lambda prices:np.dot(prices, weights)/weights.sum(), raw=True)\n",
    "        poscWMA = ((df['wma10']-df['wma20'])/df['wma10'])*100\n",
    "        return poscWMA\n",
    "\n",
    "    def get_poscEMA(self):\n",
    "        df['ema10'] = self.df['Close'].ewm(10).mean()\n",
    "        df['ema20'] = self.df['Close'].ewm(20).mean()\n",
    "        poscEMA = ((df['ema10']-df['ema20'])/df['ema10'])*100\n",
    "        return poscEMA\n",
    "    \n",
    "    def get_posc(self):\n",
    "        posc = ((self.get_poscSMA())*((self.a)/100) + (self.get_poscWMA())*((self.b)/100) + (self.get_poscEMA())*((self.c)/100))\n",
    "        return posc  "
   ]
  },
  {
   "cell_type": "code",
   "execution_count": 27,
   "id": "09a01f55",
   "metadata": {},
   "outputs": [],
   "source": [
    "# 해당 업종에 속한 모든 종목들의 평균 posc 구하기. (target Industry posc)"
   ]
  },
  {
   "cell_type": "code",
   "execution_count": 28,
   "id": "88ec950c",
   "metadata": {},
   "outputs": [],
   "source": [
    "SumStockPosc = 0\n",
    "AvgSumStockPosc = 0\n",
    "for i in range(0, len(seekLists)):\n",
    "    SumStockPosc += (StockPosc(seekLists[i],a,b,c).get_posc())\n",
    "    AvgSumStockPosc = SumStockPosc / len(seekLists)"
   ]
  },
  {
   "cell_type": "code",
   "execution_count": 29,
   "id": "155b57d9",
   "metadata": {},
   "outputs": [],
   "source": [
    "# 해당 종목의 posc 그래프"
   ]
  },
  {
   "cell_type": "code",
   "execution_count": 30,
   "id": "85f32a82",
   "metadata": {},
   "outputs": [
    {
     "data": {
      "image/png": "[encoded data removed]",
      "text/plain": [
       "<Figure size 432x288 with 1 Axes>"
      ]
     },
     "metadata": {
      "needs_background": "light"
     },
     "output_type": "display_data"
    }
   ],
   "source": [
    "targetStock=StockPosc(seekCode,a,b,c)\n",
    "plt.plot(targetStock.get_posc())\n",
    "plt.axhline(y=0, color='r', linewidth=1)\n",
    "plt.title(\"target stock posc\")\n",
    "plt.ylabel(\"(%)\")\n",
    "plt.show()"
   ]
  },
  {
   "cell_type": "code",
   "execution_count": 31,
   "id": "a20f8183",
   "metadata": {},
   "outputs": [],
   "source": [
    "# 해당 종목 산업에 속한 종목들의 평균 posc 그래프"
   ]
  },
  {
   "cell_type": "code",
   "execution_count": 32,
   "id": "9cf963f4",
   "metadata": {},
   "outputs": [
    {
     "data": {
      "image/png": "[encoded data removed]",
      "text/plain": [
       "<Figure size 432x288 with 1 Axes>"
      ]
     },
     "metadata": {
      "needs_background": "light"
     },
     "output_type": "display_data"
    }
   ],
   "source": [
    "plt.plot(AvgSumStockPosc)\n",
    "plt.axhline(y=0, color='r', linewidth=1)\n",
    "plt.title(\"target Industry posc\")\n",
    "plt.ylabel(\"(%)\")\n",
    "plt.show()"
   ]
  },
  {
   "cell_type": "code",
   "execution_count": 33,
   "id": "c0e091a9",
   "metadata": {},
   "outputs": [],
   "source": [
    "# 해당 종목의 종가 변화"
   ]
  },
  {
   "cell_type": "code",
   "execution_count": 34,
   "id": "25a8aadc",
   "metadata": {
    "tags": []
   },
   "outputs": [
    {
     "data": {
      "text/plain": [
       "Text(0.5, 1.0, 'target stock Close')"
      ]
     },
     "execution_count": 34,
     "metadata": {},
     "output_type": "execute_result"
    },
    {
     "data": {
      "image/png": "[encoded data removed]",
      "text/plain": [
       "<Figure size 432x288 with 1 Axes>"
      ]
     },
     "metadata": {
      "needs_background": "light"
     },
     "output_type": "display_data"
    }
   ],
   "source": [
    "df = fdr.DataReader(target,'2020-01-01')\n",
    "plt.plot(df.Close)\n",
    "plt.title(\"target stock Close\")"
   ]
  },
  {
   "cell_type": "code",
   "execution_count": 2,
   "id": "e659ee01-ed4c-4564-97cc-fd00e137612d",
   "metadata": {},
   "outputs": [],
   "source": [
    "# 참고\n",
    "# https://wendys.tistory.com/178?category=769564\n",
    "# https://github.com/wonyongHwang/KopoBlockchain"
   ]
  },
  {
   "cell_type": "code",
   "execution_count": 3,
   "id": "489afd31-7b6e-4c36-89c3-46e5e91f2c38",
   "metadata": {},
   "outputs": [],
   "source": [
    "# a, b, c 등 변수들 name설정 필요"
   ]
  },
  {
   "cell_type": "code",
   "execution_count": 4,
   "id": "0f2ef3b4-ef81-448c-ba1c-7bb9c4ca968f",
   "metadata": {},
   "outputs": [],
   "source": [
    "# 오류설정필요\n",
    "# 1. 해당 업종 코드들의 평균posc 구할 때, 그 기간안에 속한 데이터가 없는 경우 > 아예 제외시키고 계산을 해야함.\n",
    "# 2. posc구할 떄, 넣는 값(a,b,c)들의 합이 100이어야만 함. (100이 아닐 때 처리해야줘야 함.)"
   ]
  },
  {
   "cell_type": "code",
   "execution_count": 5,
   "id": "44b66329-de36-4ebb-878a-66087ecfeda4",
   "metadata": {},
   "outputs": [],
   "source": [
    "# 매수,매도 시점 구현 필요\n",
    "# target stock posc (%) > 0 일 경우 매수 시점. \n",
    "# 매수 시점 일 때 , target stock posc(%) 변화량이 target industry posc(%) 보다 큰 경우 : \n",
    "#     target stock 의 과매수로 볼 수 있으므로 매수 위험 경고.\n",
    "# target stock posc (%) < 0 일 경우 매도 시점. "
   ]
  },
  {
   "cell_type": "markdown",
   "id": "457a5b19",
   "metadata": {},
   "source": [
    "###"
   ]
  }
 ],
 "metadata": {
  "kernelspec": {
   "display_name": "Python 3",
   "language": "python",
   "name": "python3"
  },
  "language_info": {
   "codemirror_mode": {
    "name": "ipython",
    "version": 3
   },
   "file_extension": ".py",
   "mimetype": "text/x-python",
   "name": "python",
   "nbconvert_exporter": "python",
   "pygments_lexer": "ipython3",
   "version": "3.8.8"
  }
 },
 "nbformat": 4,
 "nbformat_minor": 5
}
