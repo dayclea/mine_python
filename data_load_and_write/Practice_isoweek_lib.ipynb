{
 "cells": [
  {
   "cell_type": "code",
   "execution_count": 1,
   "id": "eb7b1bd2-f038-4a85-a831-2d9e3d0909d4",
   "metadata": {},
   "outputs": [],
   "source": [
    "# =================== << 라이브러리 선언 >> ===================\n",
    "\n",
    "from isoweek import Week\n",
    "\n",
    "# =================== << 전역변수 선언 >> ===================\n",
    "\n",
    "resultWeek = \"\" # 최종적으로 출력할 주차를 담을 변수\n",
    "resultYear = \"\" # 최종적으로 출력할 연도를 담을 변수\n",
    "count = 1       # preWeekCalc 함수에서 연도의 인덱스 값을 조정하기 위한 변수\n",
    "weekList = []   # 일정기간 내의 모든 주 수를 담기 위한 리스트\n",
    "resWeek = 0     # 목적 주차까지의 남은 거리를 담기 위한 변수\n",
    "\n",
    "# ============================= << 사용할 함수 선언 >> =============================\n",
    "# 실제 계산을 담당하여 최종 결과값을 전역변수에 돌려주는 preWeekCalc 함수\n",
    "\n",
    "\n",
    "def preWeekCalc(weekList, index, resWeek, count):\n",
    "    # 하기 2개의 변수는 전역변수로 선언한 것을 이용한다.\n",
    "    global resultWeek, resultYear\n",
    "    \n",
    "    # 앞서 계산한 resWeek 가 1보다 작을 경우 전년도로 거슬러 올라갈 필요 있음\n",
    "    if resWeek < 1:\n",
    "\n",
    "        # 전년도의 전체 주차에서 resWeek 의 절대값을 차감\n",
    "        calcValue = weekList[index - count][1] - (resWeek * -1)\n",
    "        # print(\"resWeek :\", resWeek)\n",
    "        # print(\"calcValue :\", calcValue)\n",
    "\n",
    "        # 만약 위 계산을 거쳐도 1 보다 작아질 경우 또 한번 거슬러 올라가야함\n",
    "        if calcValue < 1:\n",
    "            count += 1\n",
    "            preWeekCalc(weekList, index, calcValue, count)\n",
    "\n",
    "        # 연도를 하나 거슬러 올라갈 경우 각각의 값을 최종 결과값에 대입\n",
    "        else:\n",
    "            # calcValue 가 양수이나 10보다 작을 경우, 출력할 때 0이 붙지 않는다. 붙이자.\n",
    "            if calcValue < 10:\n",
    "                resultWeek = \"0\" + str(calcValue)\n",
    "            else:\n",
    "                resultWeek = str(calcValue)\n",
    "            resultYear = str(weekList[index - count][0])\n",
    "\n",
    "    # resWeek 가 양수로 나와 전년도까지 거슬러 올라갈 필요가 없을 경우\n",
    "    else:\n",
    "        # 만약 resWeek 가 10보다 작으면 주차를 출력할 때, 0은 붙지 않고 나가게 된다\n",
    "        if resWeek < 10:\n",
    "            # resWeek 를 문자열로 형변환 후 앞에 0을 붙인다\n",
    "            calcValue = \"0\" + str(resWeek)\n",
    "        else:\n",
    "            # 10보다 클 경우 그냥 문자열로 형변환한다\n",
    "            calcValue = str(resWeek)\n",
    "\n",
    "        # 최종 결과값 변수에 각각의 값을 대입한다.\n",
    "        resultWeek = calcValue\n",
    "        resultYear = str(weekList[index][0])\n",
    "        \n",
    "# ============================= << 사용할 함수 선언 >> =============================\n",
    "# 받은 값을 정수형 절대값으로 변경하여 돌려주는 함수\n",
    "\n",
    "\n",
    "def absoluteValue(value):\n",
    "    \n",
    "    # 정수형도 아니고 음수일 경우의 처리\n",
    "    if (type(value) != int):\n",
    "        value = int(value)\n",
    "        if (value < 0): \n",
    "            value = value * -1\n",
    "        else:\n",
    "            pass\n",
    "    \n",
    "    # 정수형이기는 하지만 음수일 경우\n",
    "    elif (value < 0):\n",
    "        value = value * - 1\n",
    "\n",
    "    # 정수형 맞고 양수일 경우\n",
    "    else:\n",
    "        pass\n",
    "    \n",
    "    return value\n",
    "\n",
    "\n",
    "# ============================= << 사용할 함수 선언 >> =============================\n",
    "# 최초로 값을 받아 기본적인 설정을 실행 후, 최종적인 값을 출력하는 함수\n",
    "\n",
    "\n",
    "def preWeek(var1, var2):\n",
    "    \n",
    "    # 만에 하나 받는 값이 음수 혹은 음수의 문자열일 경우, 그걸 정수형의 절대값으로 바꾸어주는 코드\n",
    "    var1 = absoluteValue(var1)\n",
    "    var2 = absoluteValue(var2)\n",
    "    \n",
    "    # 1970년부터 2023년까지의 모든 주 수를 반복하며 리스트에 추가\n",
    "    for i in range(1970, 2022):\n",
    "        weeks = Week.last_week_of_year(i).week # 해당 년도의 모든 주 수를 변수에 저장\n",
    "        args = [i, weeks] # 년도 i 와 주 수 weeks 를 리스트로 묶어 args 에 저장 \n",
    "        weekList.append(args) # args 를 weekList 에 추가\n",
    "        args = [] # args 초기화\n",
    "\n",
    "    # 위 반복문 확인용 코드\n",
    "    # print(weekList)\n",
    "    # print(len(weekList))\n",
    "\n",
    "    # 인수로 받은 값들을 각각 함수내에서 사용하기 위한 변수에 대입\n",
    "    yearWeek = var1     # 연도\n",
    "    preWeekSize = var2  # 거슬러 올라갈 값\n",
    "    # print(yearWeek)\n",
    "    # print(preWeekSize)\n",
    "    \n",
    "    # preWeekSize 는 빼기연산이 필요하기 때문에 정수형태로 변환\n",
    "    if type(preWeekSize) != int:\n",
    "        preWeekSize = int(preWeekSize)\n",
    "    else:\n",
    "        pass\n",
    "\n",
    "    # 인수로 받은 연도에서 연도와 주차로 잘라내기 위하여 형변환 및 인덱싱 진행\n",
    "    targetYear = str(yearWeek)[:4]\n",
    "    targetWeek = str(yearWeek)[4:]\n",
    "    # print(targetYear)\n",
    "    # print(targetWeek)\n",
    "    \n",
    "    # 거슬러 올라가는 간 후의 목적지를 확인하기 위해서 인수로 받은 주차(targetWeek) 에서 거슬러 올라갈 값(preWeekSize) 를 차감\n",
    "    resWeek = int(targetWeek) - preWeekSize\n",
    "    # print(resWeek)\n",
    "    \n",
    "    # 반복문을 통해 전체 범위 내에서 돌리기 시작\n",
    "    for i in range(len(weekList)):\n",
    "        \n",
    "        # targetYear 와 일치하는 연도를 찾음\n",
    "        if weekList[i][0] == int(targetYear):\n",
    "            preWeekCalc(weekList, i, resWeek, count)\n",
    "            break\n",
    "        # targetYear 와 연도가 일치하지 않으면 continue 실행\n",
    "        else:\n",
    "            continue\n",
    "            \n",
    "    # 최종 결과값을 더하여 출력\n",
    "    print(resultYear + resultWeek)"
   ]
  },
  {
   "cell_type": "code",
   "execution_count": 2,
   "id": "98779d1b-8361-41a5-bcf2-433e5dd2f633",
   "metadata": {
    "tags": []
   },
   "outputs": [
    {
     "name": "stdout",
     "output_type": "stream",
     "text": [
      "201648\n"
     ]
    }
   ],
   "source": [
    "preWeek(\"201701\", 5)"
   ]
  },
  {
   "cell_type": "code",
   "execution_count": 3,
   "id": "ee1c5273-1e44-4572-bb02-2cda5b4a3704",
   "metadata": {
    "tags": []
   },
   "outputs": [
    {
     "name": "stdout",
     "output_type": "stream",
     "text": [
      "201710\n"
     ]
    }
   ],
   "source": [
    "preWeek(201720, 10)"
   ]
  },
  {
   "cell_type": "code",
   "execution_count": 4,
   "id": "f93387c2-cd9a-4c1f-8d77-43510e5b970e",
   "metadata": {
    "tags": []
   },
   "outputs": [
    {
     "name": "stdout",
     "output_type": "stream",
     "text": [
      "201525\n"
     ]
    }
   ],
   "source": [
    "preWeek(201720, \"100\")"
   ]
  }
 ],
 "metadata": {
  "kernelspec": {
   "display_name": "Python 3 (ipykernel)",
   "language": "python",
   "name": "python3"
  },
  "language_info": {
   "codemirror_mode": {
    "name": "ipython",
    "version": 3
   },
   "file_extension": ".py",
   "mimetype": "text/x-python",
   "name": "python",
   "nbconvert_exporter": "python",
   "pygments_lexer": "ipython3",
   "version": "3.9.7"
  }
 },
 "nbformat": 4,
 "nbformat_minor": 5
}
